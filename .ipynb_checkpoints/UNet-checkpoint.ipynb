{
  "cells": [
    {
      "cell_type": "markdown",
      "metadata": {
        "id": "HH5FGckm74Wb"
      },
      "source": [
        "## Packages"
      ],
      "id": "HH5FGckm74Wb"
    },
    {
      "cell_type": "markdown",
      "metadata": {
        "id": "tfFmLFa9TRlG"
      },
      "source": [
        "The following cell imports all packages needed in the coursework. You are not allowed to use any other packages than the ones listed below.\n",
        "<a name='packages'></a>"
      ],
      "id": "tfFmLFa9TRlG"
    },
    {
      "cell_type": "code",
      "source": [
        "from google.colab import drive\n",
        "\n",
        "drive.mount('/content/gdrive')"
      ],
      "metadata": {
        "id": "5MYVhsWGSPHF",
        "colab": {
          "base_uri": "https://localhost:8080/"
        },
        "outputId": "fd7cddf7-f22d-446d-dcc7-1cbdecf4a2cd"
      },
      "id": "5MYVhsWGSPHF",
      "execution_count": null,
      "outputs": [
        {
          "output_type": "stream",
          "name": "stdout",
          "text": [
            "Mounted at /content/gdrive\n"
          ]
        }
      ]
    },
    {
      "cell_type": "code",
      "source": [
        "!unzip gdrive/MyDrive/datasets-oxpet.zip"
      ],
      "metadata": {
        "colab": {
          "base_uri": "https://localhost:8080/"
        },
        "id": "8s2ZNX7IBmpc",
        "outputId": "81b7ec60-c345-459a-bad1-bc1579a7c451"
      },
      "id": "8s2ZNX7IBmpc",
      "execution_count": null,
      "outputs": [
        {
          "output_type": "stream",
          "name": "stdout",
          "text": [
            "Archive:  gdrive/MyDrive/datasets-oxpet.zip\n",
            "   creating: datasets-oxpet/\n",
            "  inflating: datasets-oxpet/README.md  \n",
            "   creating: datasets-oxpet/test/\n",
            "  inflating: datasets-oxpet/test/bboxes.h5  \n",
            "  inflating: datasets-oxpet/test/binary.h5  \n",
            "  inflating: datasets-oxpet/test/images.h5  \n",
            "  inflating: datasets-oxpet/test/masks.h5  \n",
            "   creating: datasets-oxpet/train/\n",
            "  inflating: datasets-oxpet/train/bboxes.h5  \n",
            "  inflating: datasets-oxpet/train/binary.h5  \n",
            "  inflating: datasets-oxpet/train/images.h5  \n",
            "  inflating: datasets-oxpet/train/masks.h5  \n",
            "   creating: datasets-oxpet/val/\n",
            "  inflating: datasets-oxpet/val/bboxes.h5  \n",
            "  inflating: datasets-oxpet/val/binary.h5  \n",
            "  inflating: datasets-oxpet/val/images.h5  \n",
            "  inflating: datasets-oxpet/val/masks.h5  \n"
          ]
        }
      ]
    },
    {
      "cell_type": "code",
      "execution_count": null,
      "metadata": {
        "id": "PXoKmVFw7XZK"
      },
      "outputs": [],
      "source": [
        "import matplotlib.pyplot as plt\n",
        "import torchvision.transforms as transforms\n",
        "import torch.optim as optim\n",
        "import os\n",
        "import h5py\n",
        "import torch\n",
        "from torch.utils.data import Dataset\n",
        "from torch.utils.data import DataLoader\n",
        "import torch.nn.functional as F\n",
        "from torch import nn"
      ],
      "id": "PXoKmVFw7XZK"
    },
    {
      "cell_type": "code",
      "source": [
        "device = torch.device(\"cuda\" if torch.cuda.is_available() else \"cpu\")"
      ],
      "metadata": {
        "id": "cSCrVTcOhTct"
      },
      "id": "cSCrVTcOhTct",
      "execution_count": null,
      "outputs": []
    },
    {
      "cell_type": "code",
      "source": [
        "class Oxpet_Dataset(Dataset):\n",
        "    def __init__(self, img_path, binary_path, bboxes_path, masks_path, require_binary = True, require_bbox = True, require_masks = True):\n",
        "        self.img_path = img_path\n",
        "        self.require_binary = require_binary\n",
        "        self.require_bbox = require_bbox\n",
        "        self.require_masks = require_masks\n",
        "        if self.require_binary:\n",
        "            self.binary_path = binary_path\n",
        "        if self.require_bbox:\n",
        "            self.bboxes_path = bboxes_path\n",
        "        if self.require_masks:\n",
        "            self.masks_path = masks_path\n",
        "\n",
        "    def __len__(self):\n",
        "        with h5py.File(self.img_path,\"r\") as f:\n",
        "            key = list(f.keys())[0]\n",
        "            return len(f[key])\n",
        "\n",
        "    def __getitem__(self, idx):\n",
        "        img = None\n",
        "        binary = None\n",
        "        bboxes = None\n",
        "        masks = None\n",
        "\n",
        "        with h5py.File(self.img_path,\"r\") as f:\n",
        "            key = list(f.keys())[0]\n",
        "            img = torch.FloatTensor(f[key][idx]).permute(2,0,1)/255\n",
        "        \n",
        "        if self.require_binary:\n",
        "            with h5py.File(self.binary_path,\"r\") as f:\n",
        "                key = list(f.keys())[0]\n",
        "                binary = torch.FloatTensor(f[key][idx])\n",
        "        \n",
        "        if self.require_bbox:\n",
        "            with h5py.File(self.bboxes_path,\"r\") as f:\n",
        "                key = list(f.keys())[0]\n",
        "                bboxes = torch.FloatTensor(f[key][idx])\n",
        "\n",
        "        if self.require_masks:\n",
        "            with h5py.File(self.masks_path,\"r\") as f:\n",
        "                key = list(f.keys())[0]\n",
        "                masks = torch.FloatTensor(f[key][idx]).permute(2,0,1)/255\n",
        "        \n",
        "        result = [img]\n",
        "        if self.require_binary:\n",
        "            result.append(binary)\n",
        "        if self.require_bbox:\n",
        "            result.append(bboxes)\n",
        "        if self.require_masks:\n",
        "            result.append(masks)\n",
        "        return result"
      ],
      "metadata": {
        "id": "n_YzFs5DhYvE"
      },
      "id": "n_YzFs5DhYvE",
      "execution_count": null,
      "outputs": []
    },
    {
      "cell_type": "code",
      "source": [
        "class Oxpet_Dataset_RAM(Dataset):\n",
        "    def __init__(self, img_path, binary_path, bboxes_path, masks_path, require_binary = True, require_bbox = True, require_masks = True):\n",
        "        self.img_path = img_path\n",
        "        self.require_binary = require_binary\n",
        "        self.require_bbox = require_bbox\n",
        "        self.require_masks = require_masks\n",
        "        with h5py.File(img_path,\"r\") as f:\n",
        "            key = list(f.keys())[0]\n",
        "            self.img = f[key][()]\n",
        "            self.length = len(f[key])\n",
        "\n",
        "        if self.require_binary:\n",
        "            with h5py.File(binary_path,\"r\") as f:\n",
        "                self.binary = f[list(f.keys())[0]][()]\n",
        "\n",
        "        if self.require_bbox:\n",
        "            with h5py.File(bboxes_path,\"r\") as f:\n",
        "                self.bbox = f[list(f.keys())[0]][()]\n",
        "        if self.require_masks:\n",
        "            with h5py.File(masks_path,\"r\") as f:\n",
        "                self.mask = f[list(f.keys())[0]][()]\n",
        "\n",
        "    def __len__(self):\n",
        "        return self.length\n",
        "\n",
        "    def __getitem__(self, idx):\n",
        "        img = None\n",
        "        binary = None\n",
        "        bboxes = None\n",
        "        masks = None\n",
        "        img = torch.FloatTensor(self.img[idx]).permute(2,0,1)/255\n",
        "        \n",
        "        if self.require_binary:\n",
        "            binary = torch.FloatTensor(self.binary[idx])\n",
        "        \n",
        "        if self.require_bbox:\n",
        "            bboxes = torch.FloatTensor(self.bbox[idx])\n",
        "\n",
        "        if self.require_masks:\n",
        "            masks = torch.FloatTensor(self.mask[idx]).permute(2,0,1)/255\n",
        "        \n",
        "        result = [img]\n",
        "        if self.require_binary:\n",
        "            result.append(binary)\n",
        "        if self.require_bbox:\n",
        "            result.append(bboxes)\n",
        "        if self.require_masks:\n",
        "            result.append(masks)\n",
        "        return result"
      ],
      "metadata": {
        "id": "GTxb0TWJkxVX"
      },
      "id": "GTxb0TWJkxVX",
      "execution_count": null,
      "outputs": []
    },
    {
      "cell_type": "code",
      "source": [
        "class _EncoderBlock(nn.Module):\n",
        "    def __init__(self, in_channels, out_channels, dropout=False):\n",
        "        super(_EncoderBlock, self).__init__()\n",
        "        layers = [\n",
        "            nn.Conv2d(in_channels, out_channels, kernel_size=3),\n",
        "            nn.BatchNorm2d(out_channels),\n",
        "            nn.ReLU(inplace=True),\n",
        "            nn.Conv2d(out_channels, out_channels, kernel_size=3),\n",
        "            nn.BatchNorm2d(out_channels),\n",
        "            nn.ReLU(inplace=True),\n",
        "        ]\n",
        "        if dropout:\n",
        "            layers.append(nn.Dropout())\n",
        "        layers.append(nn.MaxPool2d(kernel_size=2, stride=2))\n",
        "        self.encode = nn.Sequential(*layers)\n",
        "\n",
        "    def forward(self, x):\n",
        "        return self.encode(x)\n",
        "\n",
        "\n",
        "class _DecoderBlock(nn.Module):\n",
        "    def __init__(self, in_channels, middle_channels, out_channels):\n",
        "        super(_DecoderBlock, self).__init__()\n",
        "        self.decode = nn.Sequential(\n",
        "            nn.Conv2d(in_channels, middle_channels, kernel_size=3),\n",
        "            nn.BatchNorm2d(middle_channels),\n",
        "            nn.ReLU(inplace=True),\n",
        "            nn.Conv2d(middle_channels, middle_channels, kernel_size=3),\n",
        "            nn.BatchNorm2d(middle_channels),\n",
        "            nn.ReLU(inplace=True),\n",
        "            nn.ConvTranspose2d(middle_channels, out_channels, kernel_size=2, stride=2),\n",
        "        )\n",
        "\n",
        "    def forward(self, x):\n",
        "        return self.decode(x)\n",
        "\n",
        "\n",
        "class UNet(nn.Module):\n",
        "    def __init__(self):\n",
        "        super(UNet, self).__init__()\n",
        "        self.enc1 = _EncoderBlock(3, 64)\n",
        "        self.enc2 = _EncoderBlock(64, 128)\n",
        "        self.enc3 = _EncoderBlock(128, 256)\n",
        "        self.enc4 = _EncoderBlock(256, 512, dropout=True)\n",
        "        self.center = _DecoderBlock(512, 1024, 512)\n",
        "        self.dec4 = _DecoderBlock(1024, 512, 256)\n",
        "        self.dec3 = _DecoderBlock(512, 256, 128)\n",
        "        self.dec2 = _DecoderBlock(256, 128, 64)\n",
        "        self.dec1 = nn.Sequential(\n",
        "            nn.Conv2d(128, 64, kernel_size=3),\n",
        "            nn.BatchNorm2d(64),\n",
        "            nn.ReLU(inplace=True),\n",
        "            nn.Conv2d(64, 64, kernel_size=3),\n",
        "            nn.BatchNorm2d(64),\n",
        "            nn.ReLU(inplace=True),\n",
        "        )\n",
        "        self.final = nn.Conv2d(64, 1, kernel_size=1)\n",
        "\n",
        "    def forward(self, x):\n",
        "        enc1 = self.enc1(x)\n",
        "        enc2 = self.enc2(enc1)\n",
        "        enc3 = self.enc3(enc2)\n",
        "        enc4 = self.enc4(enc3)\n",
        "        center = self.center(enc4)\n",
        "        dec4 = self.dec4(torch.cat([center, F.interpolate(enc4, center.size()[2:], mode='bilinear',align_corners = False)], 1))\n",
        "        dec3 = self.dec3(torch.cat([dec4, F.interpolate(enc3, dec4.size()[2:], mode='bilinear',align_corners = False)], 1))\n",
        "        dec2 = self.dec2(torch.cat([dec3, F.interpolate(enc2, dec3.size()[2:], mode='bilinear',align_corners = False)], 1))\n",
        "        dec1 = self.dec1(torch.cat([dec2, F.interpolate(enc1, dec2.size()[2:], mode='bilinear',align_corners = False)], 1))\n",
        "        final = self.final(dec1)\n",
        "        return F.interpolate(final, x.size()[2:], mode='bilinear',align_corners = False)"
      ],
      "metadata": {
        "id": "K9TylEwfhbQj"
      },
      "id": "K9TylEwfhbQj",
      "execution_count": null,
      "outputs": []
    },
    {
      "cell_type": "code",
      "source": [
        "trainset = Oxpet_Dataset_RAM(os.path.join(\"datasets-oxpet\", \"train\",\"images.h5\"),os.path.join(\"datasets-oxpet\", \"train\",\"binary.h5\"),os.path.join(\"datasets-oxpet\", \"train\",\"bboxes.h5\"),os.path.join(\"datasets-oxpet\", \"train\",\"masks.h5\"), require_binary=False, require_bbox=False)"
      ],
      "metadata": {
        "id": "nrrkJmHssees"
      },
      "id": "nrrkJmHssees",
      "execution_count": null,
      "outputs": []
    },
    {
      "cell_type": "code",
      "source": [
        "batch_size = 50\n",
        "\n",
        "trainloader = DataLoader(trainset, batch_size=batch_size, shuffle= True,num_workers=2)\n",
        "# validset = Oxpet_Dataset(os.path.join(\"datasets-oxpet\", \"val\",\"images.h5\"),os.path.join(\"datasets-oxpet\", \"val\",\"binary.h5\"),os.path.join(\"datasets-oxpet\", \"val\",\"bboxes.h5\"),os.path.join(\"datasets-oxpet\", \"val\",\"masks.h5\"), require_binary=False, require_bbox=False)\n",
        "# validloader = DataLoader(validset, batch_size=batch_size, shuffle= True,num_workers=2)\n",
        "\n",
        "net = UNet().to(device)\n",
        "\n",
        "criterion = torch.nn.BCELoss()\n",
        "optimizer = optim.Adam(net.parameters(), lr=0.001)"
      ],
      "metadata": {
        "id": "J8C_3XRMsUGt"
      },
      "id": "J8C_3XRMsUGt",
      "execution_count": null,
      "outputs": []
    },
    {
      "cell_type": "code",
      "source": [
        "for epoch in range(2):  # loop over the dataset multiple times\n",
        "\n",
        "    running_loss = 0.0\n",
        "    for i, data in enumerate(trainloader, 0):\n",
        "        # get the inputs; data is a list of [inputs, labels]\n",
        "        inputs, labels = data\n",
        "        inputs = inputs.to(device)\n",
        "        labels = labels.to(device)\n",
        "        # zero the parameter gradients\n",
        "        optimizer.zero_grad()\n",
        "\n",
        "        # forward + backward + optimize\n",
        "        outputs = net(inputs)\n",
        "        loss = criterion(outputs, labels)\n",
        "        loss.backward()\n",
        "        optimizer.step()\n",
        "\n",
        "        # print statistics\n",
        "        \n",
        "        running_loss += loss.item()\n",
        "        if i % 200 == 199:    # print every 2000 mini-batches\n",
        "            print('[%d, %5d] loss: %.3f' %\n",
        "                (epoch + 1, i + 1, running_loss / 200))\n",
        "            running_loss = 0.0\n",
        "\n",
        "print('Training done.')\n",
        "\n",
        "# save trained model\n",
        "torch.save(net.state_dict(), 'saved_model.pt')\n",
        "print('Model saved.')"
      ],
      "metadata": {
        "colab": {
          "base_uri": "https://localhost:8080/",
          "height": 380
        },
        "id": "_LuFj-tVheTw",
        "outputId": "8101944a-24bf-4971-a152-d462a2216307"
      },
      "id": "_LuFj-tVheTw",
      "execution_count": null,
      "outputs": [
        {
          "output_type": "error",
          "ename": "RuntimeError",
          "evalue": "ignored",
          "traceback": [
            "\u001b[0;31m---------------------------------------------------------------------------\u001b[0m",
            "\u001b[0;31mRuntimeError\u001b[0m                              Traceback (most recent call last)",
            "\u001b[0;32m<ipython-input-10-0dff57f3d911>\u001b[0m in \u001b[0;36m<module>\u001b[0;34m()\u001b[0m\n\u001b[1;32m     13\u001b[0m         \u001b[0moutputs\u001b[0m \u001b[0;34m=\u001b[0m \u001b[0mnet\u001b[0m\u001b[0;34m(\u001b[0m\u001b[0minputs\u001b[0m\u001b[0;34m)\u001b[0m\u001b[0;34m\u001b[0m\u001b[0;34m\u001b[0m\u001b[0m\n\u001b[1;32m     14\u001b[0m         \u001b[0mloss\u001b[0m \u001b[0;34m=\u001b[0m \u001b[0mcriterion\u001b[0m\u001b[0;34m(\u001b[0m\u001b[0moutputs\u001b[0m\u001b[0;34m,\u001b[0m \u001b[0mlabels\u001b[0m\u001b[0;34m)\u001b[0m\u001b[0;34m\u001b[0m\u001b[0;34m\u001b[0m\u001b[0m\n\u001b[0;32m---> 15\u001b[0;31m         \u001b[0mloss\u001b[0m\u001b[0;34m.\u001b[0m\u001b[0mbackward\u001b[0m\u001b[0;34m(\u001b[0m\u001b[0;34m)\u001b[0m\u001b[0;34m\u001b[0m\u001b[0;34m\u001b[0m\u001b[0m\n\u001b[0m\u001b[1;32m     16\u001b[0m         \u001b[0moptimizer\u001b[0m\u001b[0;34m.\u001b[0m\u001b[0mstep\u001b[0m\u001b[0;34m(\u001b[0m\u001b[0;34m)\u001b[0m\u001b[0;34m\u001b[0m\u001b[0;34m\u001b[0m\u001b[0m\n\u001b[1;32m     17\u001b[0m \u001b[0;34m\u001b[0m\u001b[0m\n",
            "\u001b[0;32m/usr/local/lib/python3.7/dist-packages/torch/_tensor.py\u001b[0m in \u001b[0;36mbackward\u001b[0;34m(self, gradient, retain_graph, create_graph, inputs)\u001b[0m\n\u001b[1;32m    305\u001b[0m                 \u001b[0mcreate_graph\u001b[0m\u001b[0;34m=\u001b[0m\u001b[0mcreate_graph\u001b[0m\u001b[0;34m,\u001b[0m\u001b[0;34m\u001b[0m\u001b[0;34m\u001b[0m\u001b[0m\n\u001b[1;32m    306\u001b[0m                 inputs=inputs)\n\u001b[0;32m--> 307\u001b[0;31m         \u001b[0mtorch\u001b[0m\u001b[0;34m.\u001b[0m\u001b[0mautograd\u001b[0m\u001b[0;34m.\u001b[0m\u001b[0mbackward\u001b[0m\u001b[0;34m(\u001b[0m\u001b[0mself\u001b[0m\u001b[0;34m,\u001b[0m \u001b[0mgradient\u001b[0m\u001b[0;34m,\u001b[0m \u001b[0mretain_graph\u001b[0m\u001b[0;34m,\u001b[0m \u001b[0mcreate_graph\u001b[0m\u001b[0;34m,\u001b[0m \u001b[0minputs\u001b[0m\u001b[0;34m=\u001b[0m\u001b[0minputs\u001b[0m\u001b[0;34m)\u001b[0m\u001b[0;34m\u001b[0m\u001b[0;34m\u001b[0m\u001b[0m\n\u001b[0m\u001b[1;32m    308\u001b[0m \u001b[0;34m\u001b[0m\u001b[0m\n\u001b[1;32m    309\u001b[0m     \u001b[0;32mdef\u001b[0m \u001b[0mregister_hook\u001b[0m\u001b[0;34m(\u001b[0m\u001b[0mself\u001b[0m\u001b[0;34m,\u001b[0m \u001b[0mhook\u001b[0m\u001b[0;34m)\u001b[0m\u001b[0;34m:\u001b[0m\u001b[0;34m\u001b[0m\u001b[0;34m\u001b[0m\u001b[0m\n",
            "\u001b[0;32m/usr/local/lib/python3.7/dist-packages/torch/autograd/__init__.py\u001b[0m in \u001b[0;36mbackward\u001b[0;34m(tensors, grad_tensors, retain_graph, create_graph, grad_variables, inputs)\u001b[0m\n\u001b[1;32m    154\u001b[0m     Variable._execution_engine.run_backward(\n\u001b[1;32m    155\u001b[0m         \u001b[0mtensors\u001b[0m\u001b[0;34m,\u001b[0m \u001b[0mgrad_tensors_\u001b[0m\u001b[0;34m,\u001b[0m \u001b[0mretain_graph\u001b[0m\u001b[0;34m,\u001b[0m \u001b[0mcreate_graph\u001b[0m\u001b[0;34m,\u001b[0m \u001b[0minputs\u001b[0m\u001b[0;34m,\u001b[0m\u001b[0;34m\u001b[0m\u001b[0;34m\u001b[0m\u001b[0m\n\u001b[0;32m--> 156\u001b[0;31m         allow_unreachable=True, accumulate_grad=True)  # allow_unreachable flag\n\u001b[0m\u001b[1;32m    157\u001b[0m \u001b[0;34m\u001b[0m\u001b[0m\n\u001b[1;32m    158\u001b[0m \u001b[0;34m\u001b[0m\u001b[0m\n",
            "\u001b[0;31mRuntimeError\u001b[0m: cuDNN error: CUDNN_STATUS_NOT_INITIALIZED"
          ]
        }
      ]
    },
    {
      "cell_type": "code",
      "source": [
        "testset = Oxpet_Dataset(os.path.join(\"datasets-oxpet\", \"test\",\"images.h5\"),os.path.join(\"datasets-oxpet\", \"test\",\"binary.h5\"),os.path.join(\"datasets-oxpet\", \"test\",\"bboxes.h5\"),os.path.join(\"datasets-oxpet\", \"test\",\"masks.h5\"), require_binary=False, require_bbox=False)\n",
        "testloader = DataLoader(testset, batch_size=1, shuffle= True, num_workers=2)\n",
        "dataiter = iter(testloader)\n",
        "images, labels = dataiter.next()\n",
        "outputs = net(images.to(device))\n",
        "plt.figure(figsize=(10,10))\n",
        "plt.subplot(1,3,1)\n",
        "plt.imshow(images[0].permute(1,2,0))\n",
        "plt.subplot(1,3,2)\n",
        "plt.imshow(outputs[0].cpu().reshape(256,256).detach().numpy(),cmap='gray')\n",
        "plt.subplot(1,3,3)\n",
        "plt.imshow(labels.reshape(256,256),cmap='gray')\n",
        "plt.show()"
      ],
      "metadata": {
        "id": "EswfwiJDhh2e"
      },
      "id": "EswfwiJDhh2e",
      "execution_count": null,
      "outputs": []
    },
    {
      "cell_type": "code",
      "source": [
        ""
      ],
      "metadata": {
        "id": "GWmIr3acvVym"
      },
      "id": "GWmIr3acvVym",
      "execution_count": null,
      "outputs": []
    }
  ],
  "metadata": {
    "kernelspec": {
      "display_name": "Python 3 (ipykernel)",
      "language": "python",
      "name": "python3"
    },
    "language_info": {
      "codemirror_mode": {
        "name": "ipython",
        "version": 3
      },
      "file_extension": ".py",
      "mimetype": "text/x-python",
      "name": "python",
      "nbconvert_exporter": "python",
      "pygments_lexer": "ipython3",
      "version": "3.7.3"
    },
    "colab": {
      "name": "“COMP0169_Coursework_2_ipynb”的副本.ipynb",
      "provenance": [],
      "collapsed_sections": []
    },
    "accelerator": "GPU"
  },
  "nbformat": 4,
  "nbformat_minor": 5
}